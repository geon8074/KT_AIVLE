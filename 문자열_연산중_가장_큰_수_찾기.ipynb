{
  "nbformat": 4,
  "nbformat_minor": 0,
  "metadata": {
    "colab": {
      "name": "문자열 연산중 가장 큰 수 찾기.ipynb",
      "provenance": [],
      "authorship_tag": "ABX9TyPHTjdpf+8bIYWTHuSoL0FX",
      "include_colab_link": true
    },
    "kernelspec": {
      "name": "python3",
      "display_name": "Python 3"
    },
    "language_info": {
      "name": "python"
    }
  },
  "cells": [
    {
      "cell_type": "markdown",
      "metadata": {
        "id": "view-in-github",
        "colab_type": "text"
      },
      "source": [
        "<a href=\"https://colab.research.google.com/github/geon8074/KT_AIVLE/blob/main/%EB%AC%B8%EC%9E%90%EC%97%B4_%EC%97%B0%EC%82%B0%EC%A4%91_%EA%B0%80%EC%9E%A5_%ED%81%B0_%EC%88%98_%EC%B0%BE%EA%B8%B0.ipynb\" target=\"_parent\"><img src=\"https://colab.research.google.com/assets/colab-badge.svg\" alt=\"Open In Colab\"/></a>"
      ]
    },
    {
      "cell_type": "code",
      "execution_count": null,
      "metadata": {
        "colab": {
          "base_uri": "https://localhost:8080/"
        },
        "id": "mhmOOoOhzmy0",
        "outputId": "9e22a82c-8bef-4083-fa2e-b50af8b506b0"
      },
      "outputs": [
        {
          "output_type": "stream",
          "name": "stdout",
          "text": [
            "02984\n",
            "576\n"
          ]
        }
      ],
      "source": [
        "n=list(input())\n",
        "ans=1\n",
        "for i in range(len(n)):\n",
        "    if int(n[i])==1:\n",
        "        ans+=1\n",
        "    elif int(n[i])!=0:\n",
        "        ans=ans*int(n[i])\n",
        "print(ans)"
      ]
    }
  ]
}