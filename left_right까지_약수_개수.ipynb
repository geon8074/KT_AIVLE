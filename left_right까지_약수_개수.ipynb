{
  "nbformat": 4,
  "nbformat_minor": 0,
  "metadata": {
    "colab": {
      "name": "left_right까지 약수 개수",
      "provenance": [],
      "authorship_tag": "ABX9TyP0EY3zP64s9QjGM738MH3J",
      "include_colab_link": true
    },
    "kernelspec": {
      "name": "python3",
      "display_name": "Python 3"
    },
    "language_info": {
      "name": "python"
    }
  },
  "cells": [
    {
      "cell_type": "markdown",
      "metadata": {
        "id": "view-in-github",
        "colab_type": "text"
      },
      "source": [
        "<a href=\"https://colab.research.google.com/github/geon8074/KT_AIVLE/blob/main/left_right%EA%B9%8C%EC%A7%80_%EC%95%BD%EC%88%98_%EA%B0%9C%EC%88%98.ipynb\" target=\"_parent\"><img src=\"https://colab.research.google.com/assets/colab-badge.svg\" alt=\"Open In Colab\"/></a>"
      ]
    },
    {
      "cell_type": "code",
      "execution_count": 4,
      "metadata": {
        "id": "Hg_H3CSjq00a",
        "outputId": "991887d3-5627-40d1-fb7b-6da9a0d98ec3",
        "colab": {
          "base_uri": "https://localhost:8080/"
        }
      },
      "outputs": [
        {
          "output_type": "stream",
          "name": "stdout",
          "text": [
            "13 17\n",
            "43\n"
          ]
        }
      ],
      "source": [
        "l,r=map(int,input().split())\n",
        "\n",
        "def solution(l,r):\n",
        "    ans=0\n",
        "    for n in range(l,r+1):\n",
        "        cnt=0\n",
        "        for i in range(1,n+1):\n",
        "            if n%i==0:\n",
        "                cnt+=1\n",
        "        if cnt%2==0:\n",
        "            ans+=n\n",
        "            cnt=0\n",
        "        else:\n",
        "            ans-=n\n",
        "            cnt=0\n",
        "    return ans\n",
        "print(solution(l,r))"
      ]
    }
  ]
}